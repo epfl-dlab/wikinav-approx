{
 "cells": [
  {
   "cell_type": "code",
   "execution_count": null,
   "metadata": {},
   "outputs": [],
   "source": [
    "import findspark\n",
    "findspark.init('/usr/lib/spark2')\n",
    "import wmfdata.spark as wmfspark\n",
    "\n",
    "import pyspark\n",
    "import re\n",
    "import pyspark.sql\n",
    "from pyspark.sql import *\n",
    "import pandas as pd\n",
    "import glob\n",
    "import matplotlib.pyplot as plt\n",
    "import hashlib\n",
    "import random\n",
    "import os.path\n",
    "import shutil\n",
    "import json\n",
    "from pyspark.sql.functions import *\n",
    "from datetime import timedelta, date\n",
    "import uuid\n",
    "from pyspark.sql.types import *\n",
    "pd.set_option('display.float_format', lambda x: '%.5f' % x)\n",
    "import copy"
   ]
  },
  {
   "cell_type": "code",
   "execution_count": null,
   "metadata": {},
   "outputs": [],
   "source": [
    "random.seed(42)"
   ]
  },
  {
   "cell_type": "markdown",
   "metadata": {},
   "source": [
    "## Link Prediction Task"
   ]
  },
  {
   "cell_type": "code",
   "execution_count": null,
   "metadata": {},
   "outputs": [],
   "source": [
    "langlist = ['en', 'ru', 'ja', 'de', 'fr', 'it', 'pl', 'fa']\n",
    "path_types = ['real_nav', 'gen_clickstream_private', 'gen_clickstream_public', 'gen_graph']\n",
    "\n",
    "root_dir = os.path.abspath(os.path.join(os.getcwd(),os.pardir))\n",
    "PATH_IN = os.path.join(root_dir, 'data')\n",
    "PATH_OUT = root_dir"
   ]
  },
  {
   "cell_type": "code",
   "execution_count": null,
   "metadata": {},
   "outputs": [],
   "source": [
    "def get_s_counts(fname):\n",
    "    s_count = {}\n",
    "    for lnum, line in enumerate(open(fname)):\n",
    "        if lnum == 0:\n",
    "            continue\n",
    "        line = line.strip().split(',')\n",
    "        src_id = int(line[0]); count = int(line[1])\n",
    "        s_count[src_id] = count\n",
    "    return s_count"
   ]
  },
  {
   "cell_type": "code",
   "execution_count": null,
   "metadata": {},
   "outputs": [],
   "source": [
    "def get_st_counts(fname):\n",
    "    st_count = {}\n",
    "    for lnum, line in enumerate(open(fname)):\n",
    "        if lnum == 0:\n",
    "            continue\n",
    "        line = line.strip().split(',')\n",
    "        src_id = int(line[0]); trgt_id = int(line[1]); count = int(line[2])\n",
    "        st_count[(src_id,trgt_id)] = count\n",
    "    return st_count"
   ]
  },
  {
   "cell_type": "code",
   "execution_count": null,
   "metadata": {},
   "outputs": [],
   "source": [
    "def get_new_links(fname, st_count):\n",
    "    new_links = {}; positive_sources = {}; positive_targets = {}\n",
    "    num_pos_links = 0; num_neg_links = 0\n",
    "    for lnum, line in enumerate(open(fname)):\n",
    "        if lnum == 0:\n",
    "            continue\n",
    "        line = line.strip().split(',')\n",
    "        src_id = int(line[0]); trgt_id = int(line[1])\n",
    "        if (src_id, trgt_id) in st_count:\n",
    "            positive_sources[src_id] = True; positive_targets[trgt_id] = True\n",
    "            new_links[(src_id, trgt_id)] = 1\n",
    "            num_pos_links += 1\n",
    "\n",
    "    for key in st_count:\n",
    "        src_id = key[0]; trgt_id = key[1]\n",
    "#         if (src_id in positive_sources and trgt_id not in positive_targets) or (src_id not in positive_sources and trgt_id in positive_targets):\n",
    "        if src_id in positive_sources and trgt_id in positive_targets and (src_id,trgt_id) not in new_links:\n",
    "            new_links[(src_id, trgt_id)] = 0\n",
    "            num_neg_links += 1\n",
    "    print(f'Found {num_pos_links} positive and {num_neg_links} negative links')\n",
    "    return new_links, num_pos_links, num_neg_links"
   ]
  },
  {
   "cell_type": "code",
   "execution_count": null,
   "metadata": {},
   "outputs": [],
   "source": [
    "def get_pst_new_links(new_links, st_count, s_count, s_count_full):\n",
    "    links_pst = {}\n",
    "    for link in new_links:\n",
    "        src_id = link[0]; trgt_id = link[1]; label = new_links[link]\n",
    "        if link in st_count:\n",
    "            pst = st_count[link]/s_count[src_id]\n",
    "            pst_all = st_count[link]/s_count_full[src_id]\n",
    "        else:\n",
    "            pst = 0; pst_all = 0\n",
    "        links_pst[link] = (pst_all, pst, label)\n",
    "    return links_pst"
   ]
  },
  {
   "cell_type": "code",
   "execution_count": null,
   "metadata": {},
   "outputs": [],
   "source": [
    "def precision_at_k(labels):\n",
    "    p_at_k = []; num_correct = 0\n",
    "    for k in range(0, len(labels)):\n",
    "        if labels[k] == 1:\n",
    "            num_correct+=1\n",
    "        p_at_k.append(num_correct/(k+1))\n",
    "    return p_at_k"
   ]
  },
  {
   "cell_type": "code",
   "execution_count": null,
   "metadata": {},
   "outputs": [],
   "source": [
    "precision_results = {}\n",
    "for lang in langlist:\n",
    "    print(f'{lang}wiki')\n",
    "    new_links_fname = os.path.join(PATH_IN, 'graphs', lang, f'{lang}wiki_new_links_2021-04.csv')\n",
    "    stats_fout = open(os.path.join(PATH_OUT, 'downstream_tasks', 'link_prediction_results', f'{lang}wiki_link_stats.tsv'), \"w\")\n",
    "    precision_fout = open(os.path.join(PATH_OUT, 'downstream_tasks', 'link_prediction_results', f'{lang}wiki_precision_at_k.tsv'), \"w\")\n",
    "    \n",
    "    stats_fout.write('#PositiveLinks\\t#NegativeLinks\\n')\n",
    "    \n",
    "    precision_results[lang] = {}\n",
    "    for path_type in path_types:\n",
    "        print(f'Paths: {path_type}')\n",
    "        st_counts_fname = os.path.join(PATH_IN, 'link_prediction', lang, f'st_counts_atleast10paths_{path_type}.csv')\n",
    "        s_counts_fname = os.path.join(PATH_IN, 'link_prediction', lang, f's_counts_atleast10paths_{path_type}.csv')\n",
    "        s_counts_full_fname = os.path.join(PATH_IN, 'link_prediction', lang, f's_counts_{path_type}.csv')\n",
    "        \n",
    "        s_count = get_s_counts(s_counts_fname)\n",
    "        s_count_full = get_s_counts(s_counts_full_fname)\n",
    "        \n",
    "        st_count = get_st_counts(st_counts_fname)\n",
    "        \n",
    "        if path_type == 'real_nav':\n",
    "            new_links, num_pos_links, num_neg_links = get_new_links(new_links_fname, st_count)\n",
    "            stats_fout.write(f'{num_pos_links}\\t{num_neg_links}\\n')\n",
    "            precision_fout.write('PathType\\t')\n",
    "            for k in [1, 5, 10, 50, 100, 250, 500, 1000, 5000, 10000, 20000]:\n",
    "                if k > len(new_links):\n",
    "                    break\n",
    "                precision_fout.write(f'P@{k}\\t')\n",
    "            precision_fout.write(\"\\n\")\n",
    "        print(len(new_links))\n",
    "        links_pst = get_pst_new_links(new_links, st_count, s_count, s_count_full)\n",
    "\n",
    "        pred_labels_by_allpaths = [v[2] for k, v in sorted(links_pst.items(), key=lambda item: item[1][0], reverse=True)]\n",
    "        p_at_k = precision_at_k(pred_labels_by_allpaths[0:50000])\n",
    "        precision_results[lang][path_type] = p_at_k\n",
    "        precision_fout.write(f'{path_type}\\t')\n",
    "        for k in [1, 5, 10, 50, 100, 250, 500, 1000, 5000, 10000, 20000]:\n",
    "            if k > len(p_at_k):\n",
    "                break\n",
    "            precision_fout.write(f'{p_at_k[k-1]}\\t')\n",
    "            print(f'P@{k} = {p_at_k[k-1]}')\n",
    "        precision_fout.write('\\n')\n",
    "        precision_fout.flush()\n",
    "    precision_fout.close()\n",
    "    stats_fout.close()"
   ]
  },
  {
   "cell_type": "code",
   "execution_count": null,
   "metadata": {},
   "outputs": [],
   "source": [
    "import seaborn as sns\n",
    "sns.set_theme(style=\"white\")\n",
    "sns.color_palette('colorblind')\n",
    "import matplotlib.pyplot as plt"
   ]
  },
  {
   "cell_type": "code",
   "execution_count": null,
   "metadata": {},
   "outputs": [],
   "source": [
    "def subplot_plot(ax, lang, char_code, results):\n",
    "    labels = {'real_nav': 'Logs', 'gen_clickstream_private': 'Clickstream-Priv', 'gen_clickstream_public': 'Clickstream-Pub', 'gen_graph': 'Graph'}\n",
    "    for path_type in path_types:\n",
    "        ax.plot(results[path_type], label = labels[path_type], linewidth = 5)\n",
    "\n",
    "    ax.set_xscale('log')\n",
    "    if lang in ['en', 'ru', 'ja', 'de']:\n",
    "        yval=-0.32\n",
    "    else:\n",
    "        yval=-0.45\n",
    "    ax.set_title(f'{char_code} {lang.upper()}', y=yval, fontsize=24)\n",
    "    ax.tick_params(axis='both', which='major', labelsize=20)"
   ]
  },
  {
   "cell_type": "code",
   "execution_count": null,
   "metadata": {},
   "outputs": [],
   "source": [
    "fig, axes = plt.subplots(2, 4, figsize=(28,9), gridspec_kw={'hspace': 0.37, 'wspace': 0.1})\n",
    "axis_map = {'en': (0,0), 'ja': (0,1), 'de': (0,2), 'ru': (0,3), 'fr': (1,0), 'it': (1,1), 'pl': (1,2), 'fa': (1,3)}\n",
    "char_code = {'en': '(a)', 'ja': '(b)', 'de': '(c)', 'ru': '(d)', 'fr': '(e)', 'it': '(f)', 'pl': '(g)', 'fa': '(h)'}\n",
    "for lang in langlist:\n",
    "    print(f'{lang}wiki')\n",
    "    idx, idy = axis_map[lang]\n",
    "    subplot_plot(axes[idx,idy], lang, char_code[lang], precision_results[lang])\n",
    "\n",
    "for ax in axes.flat:\n",
    "    ax.set_xlabel('Rank k', fontsize=22)\n",
    "    ax.set_ylabel('Precision@k', fontsize=22)\n",
    "    \n",
    "# Hide x labels and tick labels for top plots and y ticks for right plots.\n",
    "for ax in axes.flat:\n",
    "    lastrow = ax.is_last_row()\n",
    "    firstcol = ax.is_first_col()\n",
    "    if not lastrow:\n",
    "        ax.set_xlabel(\"\")\n",
    "    if not firstcol:\n",
    "        for label in ax.get_yticklabels(which=\"both\"):\n",
    "            label.set_visible(False)\n",
    "        ax.get_yaxis().get_offset_text().set_visible(False)\n",
    "        ax.set_ylabel(\"\")\n",
    "\n",
    "lines, labels = axes[1,3].get_legend_handles_labels()\n",
    "fig.legend(lines, labels, fontsize=24, bbox_to_anchor=(0.5, 0.98), frameon=False, ncol=4, loc = 'upper center')\n",
    "fig.savefig(os.path.join(PATH_OUT, 'downstream_tasks', 'link_prediction_results', f'link_pred_precision_plots.png'), dpi=300, bbox_inches = \"tight\")"
   ]
  },
  {
   "cell_type": "code",
   "execution_count": null,
   "metadata": {},
   "outputs": [],
   "source": []
  }
 ],
 "metadata": {
  "kernelspec": {
   "display_name": "Python 3",
   "language": "python",
   "name": "python3"
  },
  "language_info": {
   "codemirror_mode": {
    "name": "ipython",
    "version": 3
   },
   "file_extension": ".py",
   "mimetype": "text/x-python",
   "name": "python",
   "nbconvert_exporter": "python",
   "pygments_lexer": "ipython3",
   "version": "3.7.1"
  }
 },
 "nbformat": 4,
 "nbformat_minor": 4
}
