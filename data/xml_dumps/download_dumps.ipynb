{
 "cells": [
  {
   "cell_type": "code",
   "execution_count": null,
   "metadata": {},
   "outputs": [],
   "source": [
    "import requests\n",
    "import re\n",
    "from bs4 import BeautifulSoup\n",
    "import os\n",
    "from urllib.request import urlretrieve\n",
    "from multiprocessing import Pool\n",
    "from functools import partial"
   ]
  },
  {
   "cell_type": "code",
   "execution_count": null,
   "metadata": {},
   "outputs": [],
   "source": [
    "def download_file(uri):\n",
    "    url = uri[0]; out_dir = uri[1]\n",
    "    fname = url.rsplit(\"/\",1)[-1]\n",
    "    print(f'Started downloading {fname}\\n')\n",
    "    urlretrieve(url, os.path.join(out_dir, fname))\n",
    "    print(f'Completed downloading {fname}')\n",
    "    return fname"
   ]
  },
  {
   "cell_type": "code",
   "execution_count": null,
   "metadata": {},
   "outputs": [],
   "source": [
    "PATH_OUT = os.path.abspath(os.getcwd())"
   ]
  },
  {
   "cell_type": "code",
   "execution_count": null,
   "metadata": {
    "tags": []
   },
   "outputs": [],
   "source": [
    "langlist = ['en', 'ru', 'ja', 'de', 'fr', 'it', 'pl', 'fa']\n",
    "pool = Pool(processes=10)\n",
    "for lang in langlist:\n",
    "    base_url = f'https://archive.org/download/{lang}wiki-20210401'\n",
    "    print(base_url)\n",
    "    html_text = requests.get(base_url).text\n",
    "    soup = BeautifulSoup(html_text, 'html.parser')\n",
    "\n",
    "    pattern = re.compile(re.escape(lang)+r'wiki-20210401-pages-articles\\d{1,2}.xml.*.bz2')\n",
    "\n",
    "    out_dir = os.path.join(PATH_OUT, f'{lang}_20210401')\n",
    "    if not os.path.exists(out_dir):\n",
    "        os.makedirs(out_dir)\n",
    "    \n",
    "    toDownload = []\n",
    "    for row in soup.findAll('tr'):\n",
    "        for elem in row.findAll('td'):\n",
    "            if elem.find('a') is not None:\n",
    "                wiki_url = elem.a['href']\n",
    "                if re.match(pattern, wiki_url):\n",
    "                    toDownload.append([os.path.join(base_url,wiki_url), out_dir])\n",
    "    if len(toDownload) == 0:\n",
    "        toDownload.append([os.path.join(base_url,f'{lang}wiki-20210401-pages-articles.xml.bz2'), out_dir])\n",
    "\n",
    "    return_msg_list = pool.map(download_file, toDownload)\n",
    "    \n",
    "    print(f'Completed downloading {return_msg_list} for {lang}wiki')"
   ]
  }
 ],
 "metadata": {
  "kernelspec": {
   "display_name": "Python 3",
   "language": "python",
   "name": "python3"
  },
  "language_info": {
   "codemirror_mode": {
    "name": "ipython",
    "version": 3
   },
   "file_extension": ".py",
   "mimetype": "text/x-python",
   "name": "python",
   "nbconvert_exporter": "python",
   "pygments_lexer": "ipython3",
   "version": "3.7.1"
  }
 },
 "nbformat": 4,
 "nbformat_minor": 5
}
